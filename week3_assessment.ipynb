{
 "cells": [
  {
   "cell_type": "markdown",
   "id": "416c9315",
   "metadata": {},
   "source": [
    "# Python for Data Science Assessment (week 3)\n",
    "\n",
    "This assessment is designed to test everything you've done so far this week. This assessment consists of three questions. In the first question, you'll use numpy to plot some data. In the second question, you'll look at an existing plot, describe some issues with that plot, and suggest improvements that could be made. In the final question, you'll reflect on various aspects of data science we've looked at this week.\n",
    "\n",
    "**NOTE**: If you're running this on Moodle, you'll need to run `plt.show()` at the end of a code cell to show a matplotlib plot in the notebook."
   ]
  },
  {
   "cell_type": "code",
   "execution_count": 3,
   "id": "398f1b62",
   "metadata": {
    "ExecuteTime": {
     "end_time": "2024-07-04T09:25:38.082420Z",
     "start_time": "2024-07-04T09:25:38.052132Z"
    }
   },
   "outputs": [],
   "source": [
    "# RUN THIS CELL FIRST\n",
    "#don't change these imports\n",
    "import numpy as np\n",
    "import pandas as pd\n",
    "import matplotlib.pyplot as plt\n",
    "\n",
    "plt.rc('figure', figsize=(8.0, 4.0), dpi=180)"
   ]
  },
  {
   "cell_type": "markdown",
   "id": "06ef1273",
   "metadata": {},
   "source": [
    "## Assessment guidelines\n",
    "\n",
    "This assessment is open-book: You are allowed, and actively encouraged, to consult other resources to answer the following questions. This includes course materials such as previous tutorial sheets or sets of slides, and online documentation for Numpy, Pandas and Matplotlib, which are available here for ease of reference:\n",
    "\n",
    "* Numpy: https://numpy.org/doc/stable/index.html\n",
    "* Pandas: https://pandas.pydata.org/docs/\n",
    "* Matplotlib: https://matplotlib.org/stable/index.html\n",
    "\n",
    "The documentation and course materials are fully sufficient to complete the assessment - accessing other resources is not recommended, since they may introduce additional material which can overcomplicate the assessment.\n",
    "\n",
    "You are allowed (and encouraged) to ask your tutors for help during the tutorial sessions - even if you ask a question we are not allowed to answer, we may still be able to suggest suitable resources for you to look into.\n",
    "\n",
    "This assessment must be your own work. This means you cannot ask other people (other than your tutors) or resources for help. For example, you're not allowed to share answers with fellow students, ask questions on Q&A websites, or use generative AI tools such as ChatGPT.\n",
    "\n",
    "You should create a Word document, which will contain your final submission for this exercise. Each question will explain what you should add to that Word document, and this will be summarised at the end as well."
   ]
  },
  {
   "cell_type": "markdown",
   "id": "d26ebd78",
   "metadata": {},
   "source": [
    "## Question 1: The Effect of Vitamin C on Tooth Growth in Guinea Pigs [10 marks]\n",
    "\n",
    "A dataset will be provided for you. If you're running this notebook on Moodle, its filename is `guinea.csv`. If you're running on BinderHub, the file will be in `data/guinea.csv`. If you're running this notebook through some other method, you'll need to download the dataset from Moodle and use whatever filename you give it. \n",
    "\n",
    "\n",
    "The dataset measures the length of guinea pig teeth for various doses of Vitamin C, which are administered in two\n",
    "different forms - either orange juice, or using a vitamin capsule. This dataset contains the following columns in order:\n",
    "\n",
    "* Guinea pig number\n",
    "* Tooth length (in mm)\n",
    "* Supplement type (0 for a vitamin capsule, 1 for orange juice)\n",
    "* Dose (in milligrams per day)\n",
    "\n",
    "Plot the dose vs tooth length. Make sure you group your data accordingly. Make sure your plot is readable and interpretable.\n",
    "\n",
    "In your submission, you should include a screenshot of the plot you create, and copy-paste the code you used to create that plot."
   ]
  },
  {
   "cell_type": "code",
   "execution_count": 2,
   "id": "0ae0895c",
   "metadata": {
    "ExecuteTime": {
     "end_time": "2024-07-04T07:12:05.410862Z",
     "start_time": "2024-07-04T07:12:05.393846Z"
    }
   },
   "outputs": [],
   "source": [
    "# YOUR CODE HERE\n"
   ]
  },
  {
   "cell_type": "markdown",
   "id": "e76155c5",
   "metadata": {},
   "source": [
    "## Question 2: Sleep Deprivation Study [7 marks]\n",
    "\n",
    "This question includes a plot. If the image doesn't display below automatically, it's also available on Moodle as `sleep_deprivation.png`.\n",
    "\n",
    "This plot is created from a sleep deprivation study. On day 0, the subjects of the study had their normal amount of sleep. Starting that night, each subject was restricted to 3 hours of sleep every night. Every day (including day 0), the reaction time of the subjects is tested. The following plot is created plotting how subject reaction time changes as the study progresses:\n",
    "\n",
    "![sleep deprivation plot](sleep_deprivation.png)\n",
    "\n",
    "Outline the main issues with this plot. Do you think a linegraph is the appropriate way of visualising this dataset? If so, explain why. If not, propose an alternative. Write your answer into your Word document."
   ]
  },
  {
   "cell_type": "markdown",
   "id": "37e251bd",
   "metadata": {},
   "source": [
    "## Question 3: On Data Science [8 marks]\n",
    "\n",
    "Think back on what you've learned this week to answer the following questions:\n",
    "\n",
    "1. We've seen two libraries for working with data this week - numpy and pandas. Give two advantages of using numpy rather than using pandas, and give two advantages of using pandas rather than numpy. (4 marks)\n",
    "2. What techniques make data analysis more efficient/effective? (4 marks)\n",
    "\n",
    "Write your answers to these questions in your Word document."
   ]
  },
  {
   "cell_type": "markdown",
   "id": "09b751a5",
   "metadata": {},
   "source": [
    "## Submission instructions\n",
    "\n",
    "You've now completed the assessment! To submit your assessment, create a new Word document. That document should contain:\n",
    "\n",
    "* Your numpy code for answering question 1, and a screenshot of the plot that's output from this code. (Please don't take a photo of your screen using a phone camera - this is hard to read)\n",
    "* Your answer to question 2\n",
    "* Your answer to question 3.\n",
    "\n",
    "Save this document as a PDF, and submit this document on Moodle by 4:30 on Friday."
   ]
  }
 ],
 "metadata": {
  "hide_input": false,
  "kernelspec": {
   "display_name": "Python 3",
   "language": "python",
   "name": "python3"
  },
  "language_info": {
   "codemirror_mode": {
    "name": "ipython",
    "version": 3
   },
   "file_extension": ".py",
   "mimetype": "text/x-python",
   "name": "python",
   "nbconvert_exporter": "python",
   "pygments_lexer": "ipython3",
   "version": "3.7.3"
  },
  "toc": {
   "base_numbering": 1,
   "nav_menu": {},
   "number_sections": true,
   "sideBar": true,
   "skip_h1_title": false,
   "title_cell": "Table of Contents",
   "title_sidebar": "Contents",
   "toc_cell": false,
   "toc_position": {},
   "toc_section_display": true,
   "toc_window_display": false
  }
 },
 "nbformat": 4,
 "nbformat_minor": 5
}
