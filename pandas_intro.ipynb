{
 "cells": [
  {
   "cell_type": "markdown",
   "id": "67542754",
   "metadata": {},
   "source": [
    "# Introduction to pandas"
   ]
  },
  {
   "cell_type": "markdown",
   "id": "ed4f06a5",
   "metadata": {},
   "source": [
    "This tutorial sheet is designed to:\n",
    "\n",
    "* Introduce you to pandas, a Python library for data analysis that's especially suited to data analysis.\n",
    "* Give you some more practice with data analysis using a different dataset.\n",
    "* Encourage you to use library documentation to figure out functions in unfamiliar libraries. pandas documentation is available at https://pandas.pydata.org/docs/index.html\n",
    "\n",
    "As we did yesterday, we'll first import pandas and load in our dataset, containing 1000 different movies from IMDB, into a `DataFrame` called `movies`:"
   ]
  },
  {
   "cell_type": "code",
   "execution_count": 9,
   "id": "01e53847",
   "metadata": {
    "ExecuteTime": {
     "end_time": "2024-07-01T15:31:39.985239Z",
     "start_time": "2024-07-01T15:31:39.972558Z"
    }
   },
   "outputs": [],
   "source": [
    "import pandas as pd # another shortened name to make it easier to type\n",
    "movies = pd.read_csv('data/imdb_1000.csv')"
   ]
  },
  {
   "cell_type": "markdown",
   "id": "9476ae52",
   "metadata": {},
   "source": [
    "# Your tasks for today\n",
    "\n",
    "## Displaying our dataset"
   ]
  },
  {
   "cell_type": "markdown",
   "id": "4ddadf19",
   "metadata": {},
   "source": [
    "You can just print out `movies` like any other variable, but this gives you output that's a little messy and hard to read. This dataset also has nearly 1000 rows, so it'll be massive! In the following cell, use the `head` method in pandas to display the first few rows of our dataset. You may need to refer to the pandas documentation to figure out how to use the `head` method."
   ]
  },
  {
   "cell_type": "code",
   "execution_count": 58,
   "id": "3e02b8ae",
   "metadata": {
    "ExecuteTime": {
     "end_time": "2024-07-01T18:46:07.314454Z",
     "start_time": "2024-07-01T18:46:07.307449Z"
    }
   },
   "outputs": [],
   "source": [
    "# your code here"
   ]
  },
  {
   "cell_type": "markdown",
   "id": "0b0f946b",
   "metadata": {},
   "source": [
    "You should see that every row consists of a few different values:\n",
    "\n",
    "* A star rating, out of 10.\n",
    "* The title of the movie\n",
    "* The content rating of the movie (using the American ratings system)\n",
    "* The genre of the movie\n",
    "* The duration of the movie in minutes\n",
    "* A few of the main actors in the movie\n",
    "\n",
    "Note that each column already has a title! You can refer to that title when you're slicing and indexing this DataFrame, rather than having to remember column numbers. Also, note that you can combine numeric data (star_rating and duration) with non-numeric data (title, content_rating and genre). You can even include Python lists, such as actors_list!"
   ]
  },
  {
   "cell_type": "markdown",
   "id": "9f591737",
   "metadata": {},
   "source": [
    "## Double checking our DataFrame"
   ]
  },
  {
   "cell_type": "markdown",
   "id": "06f4a82c",
   "metadata": {},
   "source": [
    "When importing a new dataset, it's always good to double check the data is laid out as expected and that each column's the right type. This can ensure you don't run into any really confusing bugs later on! In the next cell, output the shape of `movies`, and the data type of each column of `movies`."
   ]
  },
  {
   "cell_type": "code",
   "execution_count": 57,
   "id": "1c95924f",
   "metadata": {
    "ExecuteTime": {
     "end_time": "2024-07-01T18:46:04.092843Z",
     "start_time": "2024-07-01T18:46:04.082833Z"
    }
   },
   "outputs": [],
   "source": [
    "# your code here"
   ]
  },
  {
   "cell_type": "markdown",
   "id": "1a0d0690",
   "metadata": {},
   "source": [
    "## Slicing and indexing\n",
    "\n",
    "Let's start with some simple questions about our dataset. These should feel pretty similar to yesterday's tutorial sheet, though you'll implement them slightly differently in pandas. Make sure you use the pandas documentation!"
   ]
  },
  {
   "cell_type": "code",
   "execution_count": null,
   "id": "c4310ec0",
   "metadata": {},
   "outputs": [],
   "source": [
    "# How long is the longest film in our dataset?"
   ]
  },
  {
   "cell_type": "code",
   "execution_count": null,
   "id": "1bef8912",
   "metadata": {},
   "outputs": [],
   "source": [
    "# What's the longest film in our dataset?"
   ]
  },
  {
   "cell_type": "code",
   "execution_count": null,
   "id": "d8b18a18",
   "metadata": {},
   "outputs": [],
   "source": [
    "# What's the best Animation film in our dataset?"
   ]
  },
  {
   "cell_type": "code",
   "execution_count": null,
   "id": "83555176",
   "metadata": {},
   "outputs": [],
   "source": [
    "# What's the best film rated either G or PG in our dataset?"
   ]
  },
  {
   "cell_type": "markdown",
   "id": "f454c658",
   "metadata": {},
   "source": [
    "## Grouping and aggregation\n",
    "\n",
    "Another very useful operation is grouping together rows in our dataset based on the value of one of the columns. The rest of this exercise will give you some practice in doing this. Remember to search the pandas documentation - there are built-in functions that will do this for you without using for or while loops."
   ]
  },
  {
   "cell_type": "code",
   "execution_count": null,
   "id": "decf1154",
   "metadata": {},
   "outputs": [],
   "source": [
    "# Output every genre of film in our dataset. Each genre should only appear once, without any duplicates."
   ]
  },
  {
   "cell_type": "code",
   "execution_count": null,
   "id": "6381f00b",
   "metadata": {},
   "outputs": [],
   "source": [
    "# For each genre of film, what's the average length of films in that genre?"
   ]
  },
  {
   "cell_type": "code",
   "execution_count": null,
   "id": "3e6c26b6",
   "metadata": {},
   "outputs": [],
   "source": [
    "# For each content rating, what's the average star rating of films in that genre?"
   ]
  },
  {
   "cell_type": "markdown",
   "id": "e53182cb",
   "metadata": {},
   "source": [
    "## numpy vs pandas\n",
    "\n",
    "This question doesn't involve any code - this is mainly an opportunity for you to think about numpy and pandas.\n",
    "\n",
    "What did you like about using pandas? Is there anything you found easier or harder to use compared to numpy? How do you think this tutorial sheet might be different if you tried to use numpy?"
   ]
  },
  {
   "cell_type": "markdown",
   "id": "a6f7e64e",
   "metadata": {},
   "source": [
    "## 2.6 What else were they in?\n",
    "\n",
    "Note that this question is a bit more complicated than the other questions so far, so don't worry if you don't get it in the tutorial!\n",
    "\n",
    "Write a function that, given the name of an actor, returns every film in our data that said actor appears in."
   ]
  },
  {
   "cell_type": "code",
   "execution_count": 56,
   "id": "93054b0e",
   "metadata": {
    "ExecuteTime": {
     "end_time": "2024-07-01T18:45:53.002590Z",
     "start_time": "2024-07-01T18:45:52.984574Z"
    }
   },
   "outputs": [],
   "source": [
    "# your code here"
   ]
  }
 ],
 "metadata": {
  "hide_input": false,
  "kernelspec": {
   "display_name": "Python 3",
   "language": "python",
   "name": "python3"
  },
  "language_info": {
   "codemirror_mode": {
    "name": "ipython",
    "version": 3
   },
   "file_extension": ".py",
   "mimetype": "text/x-python",
   "name": "python",
   "nbconvert_exporter": "python",
   "pygments_lexer": "ipython3",
   "version": "3.7.3"
  },
  "toc": {
   "base_numbering": 1,
   "nav_menu": {},
   "number_sections": true,
   "sideBar": true,
   "skip_h1_title": false,
   "title_cell": "Table of Contents",
   "title_sidebar": "Contents",
   "toc_cell": false,
   "toc_position": {},
   "toc_section_display": true,
   "toc_window_display": false
  }
 },
 "nbformat": 4,
 "nbformat_minor": 5
}
