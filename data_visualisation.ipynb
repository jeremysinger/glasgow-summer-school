{
 "cells": [
  {
   "cell_type": "markdown",
   "id": "47fd8c2d",
   "metadata": {},
   "source": [
    "# Data Visualisation in Python"
   ]
  },
  {
   "cell_type": "markdown",
   "id": "16e87f40",
   "metadata": {},
   "source": [
    "This tutorial sheet aims to give you some more experience visualising data using matplotlib, and some more practice criticising data visualisations. As with previous tutorial sheets, you'll need to access documentation for this tutorial, which is available at https://matplotlib.org/stable/index.html. You may also wish to access the numpy and pandas documentation at https://numpy.org/doc/stable/index.html and https://pandas.pydata.org/docs/ respectively."
   ]
  },
  {
   "cell_type": "markdown",
   "id": "4537b317",
   "metadata": {},
   "source": [
    "## Criticising Visualisations"
   ]
  },
  {
   "cell_type": "markdown",
   "id": "d1c15469",
   "metadata": {},
   "source": [
    "A cycling team keeps a record of all the races they've entered. For each race, they record:\n",
    "* Whether they won or lost\n",
    "* How many times their bike broke down\n",
    "* The time taken for them to finish the race\n",
    "\n",
    "A data analyst creates the following plot, showing the number of breakdowns during a race versus the number of races won:\n",
    "\n",
    "![If the plot doesn't appear here, open cycling.png](cycling.png)\n",
    "\n",
    "Note that the colours represent the **total** duration of all races with the given number of breakdowns.\n",
    "\n",
    "What are some issues with this plot? How could we improve it?"
   ]
  },
  {
   "cell_type": "markdown",
   "id": "4b4076e3",
   "metadata": {},
   "source": [
    "Double click this cell, then list some issues here. You can type an asterisk on a new line to create bullet points, like so:\n",
    "\n",
    "* Point 1 here\n",
    "\n",
    "* Point 2 here\n",
    "\n",
    "* Point 3 here\n",
    "\n",
    "* Point 4 here\n",
    "\n",
    "* and so on...\n",
    "\n",
    "Once you're done, click \"Run\" and this cell will be formatted properly."
   ]
  },
  {
   "cell_type": "markdown",
   "id": "a3531517",
   "metadata": {},
   "source": [
    "## Cherry trees\n",
    "\n",
    "Access this data with 'cherry_trees.txt' using **numpy**.\n",
    "\n",
    "Each row represents one cherry tree, giving its:\n",
    "* Height (in feet)\n",
    "* Volume (in feet^3)\n",
    "\n",
    "Create a scatter plot of this data in **metric units**, using that 1 foot is equal to 0.3048m. Remember that all your plots should include a title, and labels on the x and y axes."
   ]
  },
  {
   "cell_type": "code",
   "execution_count": 3,
   "id": "1a9cab73",
   "metadata": {
    "ExecuteTime": {
     "end_time": "2024-07-02T17:15:24.487489Z",
     "start_time": "2024-07-02T17:15:24.484486Z"
    }
   },
   "outputs": [],
   "source": [
    "#don't change these imports\n",
    "import numpy as np\n",
    "import matplotlib.pyplot as plt\n",
    "%matplotlib inline\n",
    "plt.rc('figure', figsize=(8.0, 4.0), dpi=180)\n",
    "\n",
    "# your code here\n"
   ]
  },
  {
   "cell_type": "markdown",
   "id": "daa2c2cd",
   "metadata": {},
   "source": [
    "## Air passengers\n",
    "\n",
    "Access this data in 'air_passengers.txt' using **numpy**.\n",
    "\n",
    "Each row represents one month of international air travel, from 1949 to 1960, giving its:\n",
    "* Year (note that we use decimals to represent months within a year. For example, 1950.5 corresponds to July 1950)\n",
    "* The number of passengers in that month\n",
    "\n",
    "Plot this data however you like - and see if you spot any patterns in the data."
   ]
  },
  {
   "cell_type": "code",
   "execution_count": 4,
   "id": "b9873061",
   "metadata": {
    "ExecuteTime": {
     "end_time": "2024-07-02T17:15:25.817282Z",
     "start_time": "2024-07-02T17:15:25.807274Z"
    }
   },
   "outputs": [],
   "source": [
    "# your code here"
   ]
  },
  {
   "cell_type": "markdown",
   "id": "1b16109d",
   "metadata": {},
   "source": [
    "## Insects\n",
    "\n",
    "Access this data with insects.csv using **pandas**.\n",
    "\n",
    "Each row represents one use of a particular brand of insect spray, giving the:\n",
    "\n",
    "* Number of insects killed when using the insect spray\n",
    "* Brand of insect spray used.\n",
    "\n",
    "Plot this data using a bar chart, showing the mean insect count based on the brand of insect spray used. The x axis should be labelled with the name of the spray used, and there should be an appropriate y axis and title."
   ]
  },
  {
   "cell_type": "code",
   "execution_count": null,
   "id": "cf25f52c",
   "metadata": {},
   "outputs": [],
   "source": [
    "import pandas as pd # don't change this import\n",
    "# your code here"
   ]
  }
 ],
 "metadata": {
  "hide_input": false,
  "kernelspec": {
   "display_name": "Python 3",
   "language": "python",
   "name": "python3"
  },
  "language_info": {
   "codemirror_mode": {
    "name": "ipython",
    "version": 3
   },
   "file_extension": ".py",
   "mimetype": "text/x-python",
   "name": "python",
   "nbconvert_exporter": "python",
   "pygments_lexer": "ipython3",
   "version": "3.7.3"
  },
  "toc": {
   "base_numbering": 1,
   "nav_menu": {},
   "number_sections": true,
   "sideBar": true,
   "skip_h1_title": false,
   "title_cell": "Table of Contents",
   "title_sidebar": "Contents",
   "toc_cell": false,
   "toc_position": {},
   "toc_section_display": true,
   "toc_window_display": false
  }
 },
 "nbformat": 4,
 "nbformat_minor": 5
}
